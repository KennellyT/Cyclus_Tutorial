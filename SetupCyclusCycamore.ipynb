{
 "cells": [
  {
   "cell_type": "markdown",
   "metadata": {},
   "source": [
    "# Tutorial for Downloading Cyclus and Cycamore\n",
    "\n",
    "Your first step will be to download Anaconda.  Use the following commands:\n",
    "\n",
    "note: throughout this tutorial, the terminal will occasionally ask you to give input (such as y/n), please watch for this."
   ]
  },
  {
   "cell_type": "code",
   "execution_count": null,
   "metadata": {
    "collapsed": true
   },
   "outputs": [],
   "source": [
    "cd /tmp\n",
    "sudo apt install curl\n",
    "curl -O https://repo.continuum.io/archive/Anaconda3-5.0.1-Linux-x86_64.sh\n",
    "sha256sum Anaconda3-5.0.1-Linux-x86_64.sh\n",
    "bash Anaconda3-5.0.1-Linux-x86_64.sh\n",
    "source ~/.bashrc"
   ]
  },
  {
   "cell_type": "markdown",
   "metadata": {},
   "source": [
    "Now, configure Anaconda using the following commands:"
   ]
  },
  {
   "cell_type": "code",
   "execution_count": null,
   "metadata": {
    "collapsed": true
   },
   "outputs": [],
   "source": [
    "conda install libiconv\n",
    "conda config --add channels conda-forge\n",
    "conda update --all --update-deps"
   ]
  },
  {
   "cell_type": "markdown",
   "metadata": {},
   "source": [
    "Once that's done, you're ready to download Cyclus and Cycamore!  Enter the following command:"
   ]
  },
  {
   "cell_type": "code",
   "execution_count": null,
   "metadata": {
    "collapsed": true
   },
   "outputs": [],
   "source": [
    "conda install -c conda-forge cyclus cycamore"
   ]
  },
  {
   "cell_type": "markdown",
   "metadata": {},
   "source": [
    "Once you've done all this, you can test your installations with the unit tests below:"
   ]
  },
  {
   "cell_type": "code",
   "execution_count": null,
   "metadata": {
    "collapsed": true
   },
   "outputs": [],
   "source": [
    "cyclus_unit_tests\n",
    "cycamore_unit_tests"
   ]
  },
  {
   "cell_type": "markdown",
   "metadata": {},
   "source": [
    "# Build Scenario"
   ]
  },
  {
   "cell_type": "markdown",
   "metadata": {},
   "source": [
    "Using a template skeleton, learner needs to be able to input parameters\n",
    "- Use Jinja2 to render template file with specific data including fresh/spent fuel\n",
    "- Should input file be .xml or .py format?\n",
    "- Should be expect users to be running on linux computers?\n",
    "- What level of expertise should be expect from our users?\n",
    "- Should the user download tutorial files as a zip or pull from github?\n",
    "- How much information from a database should be analyzed? (one reactor, multiple reactors?)\n",
    "- Are we using a database at all? (PRIS)"
   ]
  },
  {
   "cell_type": "markdown",
   "metadata": {},
   "source": [
    "# Run Scenario"
   ]
  },
  {
   "cell_type": "markdown",
   "metadata": {},
   "source": [
    "- What types of archetypes are we using in this simulation? "
   ]
  },
  {
   "cell_type": "markdown",
   "metadata": {},
   "source": [
    "# Inspect Output"
   ]
  },
  {
   "cell_type": "markdown",
   "metadata": {},
   "source": [
    "- How many plots are expected?\n",
    "- What sort of analysis is expected?"
   ]
  }
 ],
 "metadata": {
  "kernelspec": {
   "display_name": "Python 3",
   "language": "python",
   "name": "python3"
  },
  "language_info": {
   "codemirror_mode": {
    "name": "ipython",
    "version": 3
   },
   "file_extension": ".py",
   "mimetype": "text/x-python",
   "name": "python",
   "nbconvert_exporter": "python",
   "pygments_lexer": "ipython3",
   "version": "3.6.3"
  }
 },
 "nbformat": 4,
 "nbformat_minor": 2
}
