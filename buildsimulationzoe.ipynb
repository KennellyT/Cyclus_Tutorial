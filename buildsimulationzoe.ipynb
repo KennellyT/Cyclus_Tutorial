{
 "cells": [
  {
   "cell_type": "markdown",
   "metadata": {},
   "source": [
    "# Exercise 1:\n",
    "\n",
    "This tutorial will teach the learner:\n",
    "-  How to build a Cyclus input file in .xml\n",
    "-  How to run an input file\n",
    "-  How to "
   ]
  },
  {
   "cell_type": "markdown",
   "metadata": {},
   "source": [
    "# Beginning Step:"
   ]
  },
  {
   "cell_type": "markdown",
   "metadata": {},
   "source": [
    "-<simulation>\n",
    "    -<control>\n",
    "        <duration>480</duration>\n",
    "        <startmonth>1</startmonth>\n",
    "        <startyear>2018</startyear>\n",
    "    </control>"
   ]
  },
  {
   "cell_type": "markdown",
   "metadata": {},
   "source": [
    "## Enrichment Facility\n",
    "\n",
    "enrichment facility explanation here"
   ]
  },
  {
   "cell_type": "markdown",
   "metadata": {},
   "source": [
    "enrichment facility markdown .xml here"
   ]
  },
  {
   "cell_type": "code",
   "execution_count": 8,
   "metadata": {},
   "outputs": [],
   "source": [
    "#declare variables here\n",
    "\n",
    "max_feed_inventory = 1e6"
   ]
  },
  {
   "cell_type": "markdown",
   "metadata": {},
   "source": [
    "## Reactor\n",
    "\n",
    "reactor explanation here"
   ]
  },
  {
   "cell_type": "markdown",
   "metadata": {},
   "source": [
    "reactor facility markdown .xml here"
   ]
  },
  {
   "cell_type": "code",
   "execution_count": 13,
   "metadata": {},
   "outputs": [],
   "source": [
    "#declare variables for reactor here\n",
    "\n",
    "assem_size = 33000\n",
    "n_assem_batch = 1\n",
    "n_assem_core = 3\n",
    "cycle_time = 11\n",
    "refuel_time = 1\n",
    "power_cap = 1000"
   ]
  },
  {
   "cell_type": "markdown",
   "metadata": {},
   "source": [
    "## Commodities\n",
    "\n",
    "Explanation of commodities here"
   ]
  },
  {
   "cell_type": "markdown",
   "metadata": {},
   "source": [
    "commodities markdown .xml here"
   ]
  },
  {
   "cell_type": "code",
   "execution_count": 5,
   "metadata": {},
   "outputs": [],
   "source": [
    "#declaring variables here\n",
    "\n",
    "solution_priority = 1.0"
   ]
  },
  {
   "cell_type": "markdown",
   "metadata": {},
   "source": [
    "## Recipes\n",
    "\n",
    "Explanation of recipes here"
   ]
  },
  {
   "cell_type": "markdown",
   "metadata": {},
   "source": [
    "markdown .xml for recipe section"
   ]
  },
  {
   "cell_type": "code",
   "execution_count": 19,
   "metadata": {},
   "outputs": [],
   "source": [
    "#declare recipe variables here\n",
    "\n",
    "Nat_U235_comp = 0.00711\n",
    "Nat_U238_comp = 0.99289\n",
    "Fresh_U235_comp = 0.04\n",
    "Fresh_U238_comp = 0.96\n",
    "Used_U235_comp = 0.011\n",
    "Used_U238_comp = 0.94\n",
    "Used_Pu239_comp = 0.009\n",
    "Used_Cs137_comp = .04"
   ]
  },
  {
   "cell_type": "code",
   "execution_count": 20,
   "metadata": {},
   "outputs": [],
   "source": [
    "import xml.etree.cElementTree as ET\n",
    "\n",
    "root = ET.Element(\"simulation\")\n",
    "\n",
    "#inserting commodities into input file\n",
    "\n",
    "doc_commod1 = ET.SubElement(root, \"commodity\")\n",
    "\n",
    "name_commod1 = ET.SubElement(doc_commod1, \"name\").text = \"U-ore\"\n",
    "sol_priority1 = ET.SubElement(doc_commod1, \"solution_priority\").text = str(solution_priority)\n",
    "\n",
    "doc_commod2 = ET.SubElement(root, \"commodity\")\n",
    "\n",
    "name_commod2 = ET.SubElement(doc_commod2, \"name\").text = \"Fresh-UOX-Fuel\"\n",
    "sol_priority2 = ET.SubElement(doc_commod2, \"solution_priority\").text = str(solution_priority)\n",
    "\n",
    "doc_commod3 = ET.SubElement(root, \"commodity\")\n",
    "\n",
    "name_commod3 = ET.SubElement(doc_commod3, \"name\").text = \"Enrich-Tails\"\n",
    "sol_priority3 = ET.SubElement(doc_commod3, \"solution_priority\").text = str(solution_priority)\n",
    "\n",
    "doc_commod4 = ET.SubElement(root, \"commodity\")\n",
    "\n",
    "name_commod4 = ET.SubElement(doc_commod4, \"name\").text = \"Used-UOX-fuel\"\n",
    "sol_priority4 = ET.SubElement(doc_commod4, \"solution_priority\").text = str(solution_priority)\n",
    "\n",
    "#inserting enrichment facility\n",
    "\n",
    "doc_enrich = ET.SubElement(root,\"facility\")\n",
    "\n",
    "name_enrich = ET.SubElement(doc_enrich, \"name\").text = \"EnrichPlant\"\n",
    "config_enrich = ET.SubElement(doc_enrich, \"config\")\n",
    "\n",
    "Enrich_config = ET.SubElement(config_enrich, \"Enrichment\")\n",
    "\n",
    "feedcommod_Enrich = ET.SubElement(Enrich_config, \"feed_commod\").text = \"U-ore\"\n",
    "feedrecipe_Enrich = ET.SubElement(Enrich_config, \"feed_recipe\").text = \"Nat-U\"\n",
    "productcommod_Enrich = ET.SubElement(Enrich_config, \"product_commod\").text = \"Fresh-UOX-Fuel\"\n",
    "tailscommod_Enrich = ET.SubElement(Enrich_config, \"tails_commod\").text = \"Enrich-Tails\"\n",
    "maxfeedinv_Enrich = ET.SubElement(Enrich_config, \"max_feed_inventory\").text = str(max_feed_inventory)\n",
    "\n",
    "#Insert reactor\n",
    "\n",
    "doc_ALWR = ET.SubElement(root,\"facility\")\n",
    "\n",
    "name_ALWR = ET.SubElement(doc_ALWR, \"name\").text = \"ALWR\"\n",
    "config_ALWR = ET.SubElement(doc_ALWR, \"config\")\n",
    "\n",
    "Reactor_config = ET.SubElement(config_ALWR, \"Reactor\")\n",
    "\n",
    "fuelincommod_Reactor = ET.SubElement(Reactor_config, \"fuel_incommods\")\n",
    "val_fuelincommod = ET.SubElement(fuelincommod_Reactor, \"val\").text = \"Fresh-UOX-Fuel\"\n",
    "\n",
    "fuelinrecipes_Reactor = ET.SubElement(Reactor_config, \"fuel_inrecipes\")\n",
    "val_fuelinrecipes = ET.SubElement(fuelinrecipes_Reactor, \"val\").text = \"Fresh-UOX-Fuel-4\"\n",
    "\n",
    "fueloutcommod_Reactor = ET.SubElement(Reactor_config, \"fuel_outcommods\")\n",
    "val_fueloutcommod = ET.SubElement(fueloutcommod_Reactor, \"val\").text = \"Used-UOX-Fuel\"\n",
    "\n",
    "fueloutrecipes_Reactor = ET.SubElement(Reactor_config, \"fuel_outrecipes\")\n",
    "val_fueloutrecipes = ET.SubElement(fueloutrecipes_Reactor, \"val\").text = \"Used-UOX-Fuel-4\"\n",
    "\n",
    "assemsize_Reactor = ET.SubElement(Reactor_config, \"assem_size\").text = str(assem_size)\n",
    "nassembatch_Reactor = ET.SubElement(Reactor_config, \"n_assem_batch\").text = str(n_assem_batch)\n",
    "nassemcore_Reactor = ET.SubElement(Reactor_config, \"n_assem_core\").text = str(n_assem_core)\n",
    "cycletime_Reactor = ET.SubElement(Reactor_config, \"cycle_time\").text = str(cycle_time)\n",
    "refueltime_Reactor = ET.SubElement(Reactor_config, \"refuel_time\").text = str(refuel_time)\n",
    "powercap_Reactor = ET.SubElement(Reactor_config, \"power_cap\").text = str(power_cap)\n",
    "\n",
    "#Insert Recipes for natural uranium, fresh UOX fuel, and used UOX fuel\n",
    "\n",
    "#natural uranium\n",
    "doc_recipeNat = ET.SubElement(root,\"recipe\")\n",
    "\n",
    "name_recipeNat = ET.SubElement(doc_recipeNat, \"name\").text = \"Nat-U\"\n",
    "basis_recipeNat = ET.SubElement(doc_recipeNat, \"basis\").text = \"mass\"\n",
    "\n",
    "nuclideU235_recipeNat = ET.SubElement(doc_recipeNat, \"nuclide\")\n",
    "id_nuclideU235 = ET.SubElement(nuclideU235_recipeNat, \"id\").text = \"92235\"\n",
    "comp_nuclideU235 = ET.SubElement(nuclideU235_recipeNat, \"comp\").text = str(Nat_U235_comp)\n",
    "\n",
    "nuclideU238_recipeNat = ET.SubElement(doc_recipeNat, \"nuclide\")\n",
    "id_nuclideU238 = ET.SubElement(nuclideU238_recipeNat, \"id\").text = \"92238\"\n",
    "comp_nuclideU238 = ET.SubElement(nuclideU238_recipeNat, \"comp\").text = str(Nat_U238_comp)\n",
    "\n",
    "#fresh uox fuel\n",
    "doc_recipeFresh = ET.SubElement(root,\"recipe\")\n",
    "\n",
    "name_recipeFresh = ET.SubElement(doc_recipeFresh, \"name\").text = \"Fresh-UOX-Fuel-4\"\n",
    "basis_recipeFresh = ET.SubElement(doc_recipeFresh, \"basis\").text = \"mass\"\n",
    "\n",
    "nuclideU235_recipeFresh = ET.SubElement(doc_recipeFresh, \"nuclide\")\n",
    "id_nuclideU235 = ET.SubElement(nuclideU235_recipeFresh, \"id\").text = \"92235\"\n",
    "comp_nuclideU235 = ET.SubElement(nuclideU235_recipeFresh, \"comp\").text = str(Fresh_U235_comp)\n",
    "\n",
    "nuclideU238_recipeFresh = ET.SubElement(doc_recipeFresh, \"nuclide\")\n",
    "id_nuclideU238 = ET.SubElement(nuclideU238_recipeFresh, \"id\").text = \"92238\"\n",
    "comp_nuclideU238 = ET.SubElement(nuclideU238_recipeFresh, \"comp\").text = str(Fresh_U238_comp)\n",
    "\n",
    "#used uox fuel\n",
    "doc_recipeUsed = ET.SubElement(root,\"recipe\")\n",
    "\n",
    "name_recipeUsed = ET.SubElement(doc_recipeUsed, \"name\").text = \"Used-UOX-Fuel-4\"\n",
    "basis_recipeUsed = ET.SubElement(doc_recipeUsed, \"basis\").text = \"mass\"\n",
    "\n",
    "nuclideU235_recipeUsed = ET.SubElement(doc_recipeUsed, \"nuclide\")\n",
    "id_nuclideU235 = ET.SubElement(nuclideU235_recipeUsed, \"id\").text = \"92235\"\n",
    "comp_nuclideU235 = ET.SubElement(nuclideU235_recipeUsed, \"comp\").text = str(Used_U235_comp)\n",
    "\n",
    "nuclideU238_recipeUsed = ET.SubElement(doc_recipeUsed, \"nuclide\")\n",
    "id_nuclideU238 = ET.SubElement(nuclideU238_recipeUsed, \"id\").text = \"92238\"\n",
    "comp_nuclideU238 = ET.SubElement(nuclideU238_recipeUsed, \"comp\").text = str(Used_U238_comp)\n",
    "\n",
    "nuclidePu239_recipeUsed = ET.SubElement(doc_recipeUsed, \"nuclide\")\n",
    "id_nuclidePu239 = ET.SubElement(nuclidePu239_recipeUsed, \"id\").text = \"94239\"\n",
    "comp_nuclidePu239 = ET.SubElement(nuclidePu239_recipeUsed, \"comp\").text = str(Used_Pu239_comp)\n",
    "\n",
    "nuclideCs137_recipeUsed = ET.SubElement(doc_recipeUsed, \"nuclide\")\n",
    "id_nuclideCs137 = ET.SubElement(nuclideCs137_recipeUsed, \"id\").text = \"55137\"\n",
    "comp_nuclideCs137 = ET.SubElement(nuclideCs137_recipeUsed, \"comp\").text = str(Used_Cs137_comp)\n",
    "\n",
    "tree = ET.ElementTree(root)\n",
    "tree.write(\"filename.xml\")"
   ]
  }
 ],
 "metadata": {
  "kernelspec": {
   "display_name": "Python 3",
   "language": "python",
   "name": "python3"
  },
  "language_info": {
   "codemirror_mode": {
    "name": "ipython",
    "version": 3
   },
   "file_extension": ".py",
   "mimetype": "text/x-python",
   "name": "python",
   "nbconvert_exporter": "python",
   "pygments_lexer": "ipython3",
   "version": "3.6.5"
  }
 },
 "nbformat": 4,
 "nbformat_minor": 2
}
