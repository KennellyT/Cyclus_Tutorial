{
 "cells": [
  {
   "cell_type": "markdown",
   "metadata": {},
   "source": [
    "In this notebook, I'm going to write some cells for creating a .csv file, for the tutorial.  The intention is to make these such that the implementation cells can be copied in whenever, and the variables can be declared before it in whatever way we see fit for the tutorial, provided names are consistent."
   ]
  },
  {
   "cell_type": "code",
   "execution_count": 44,
   "metadata": {},
   "outputs": [],
   "source": [
    "#declaring variables for testing/convention purposes:\n",
    "\n",
    "#note: testing with write_input.py, and it wants specific variable types\n",
    "\n",
    "country = 'The Beehive'\n",
    "reactor_name = 'Honeycomb3000'\n",
    "type_reactor = 'pwr'\n",
    "net_elec_capacity = 1000\n",
    "status = 'Operational'\n",
    "operator = 'SeveralBees'\n",
    "const_date = 20001031\n",
    "cons_year = 2000\n",
    "first_crit = 20101031\n",
    "entry_time = 20131031\n",
    "lifetime = 0\n",
    "first_grid = 0\n",
    "commercial = 20121031\n",
    "shutdown_date = 20701031\n",
    "ucf = 90.0"
   ]
  },
  {
   "cell_type": "code",
   "execution_count": 45,
   "metadata": {},
   "outputs": [],
   "source": [
    "import csv\n",
    "import numpy\n",
    "import os\n",
    "\n",
    "## Prof. Huff said she'd like to show \"snapshots\" of what data has been entered as the user goes through the\n",
    "## tutorial - We could always start declaring the \"header\" and \"data\" arrays early on,\n",
    "## add new values using the append function, and use print(header) and print(data) to show the updated arrays.\n",
    "## If we do it like that, we'll still need the step of converting everything in data to a string if it\n",
    "## isn't already\n",
    "\n",
    "header = ['Country','Reactor Name','Type','Net Electric Capacity','Status','Operator','Construction Date','Construction Year','First Critical','Entry Time','Lifetime','First Grid','Commercial','Shutdown Date','UCF']\n",
    "\n",
    "data = [country,reactor_name,type_reactor,net_elec_capacity,status,operator,const_date,cons_year,first_crit,entry_time,lifetime,first_grid,commercial,shutdown_date,ucf]\n",
    "#for element in data:\n",
    " #   if type(element) != str:\n",
    "  #      element = str(element)\n",
    "        \n",
    "### warning!  This next step checks if the file \"attempt.csv\" exists,\n",
    "### and deletes it if it does.  This should only be done if we make the .csv at the very end of declaring variables,\n",
    "### and we might want to do it that way\n",
    "\n",
    "filename = 'attempt.csv' #we can change this when we implement it\n",
    "\n",
    "if os.path.exists('./'+ filename) is True:\n",
    "    os.remove(filename) #I tried the method for removing a file from write_input.py, and it didn't work.\n",
    "\n",
    "with open(filename,'a+') as file:\n",
    "    w = csv.writer(file)\n",
    "    w.writerow(header)\n",
    "    w.writerow(data)"
   ]
  },
  {
   "cell_type": "markdown",
   "metadata": {},
   "source": [
    "Okay, so the above code made a csv file.  When I tried running write_input.py, it didn't work.  Not sure if I'm giving it the right arguments or calling it properly - main's help documentation says it needs the input template, but the function inputs ask for duration instead"
   ]
  },
  {
   "cell_type": "code",
   "execution_count": 50,
   "metadata": {},
   "outputs": [
    {
     "name": "stdout",
     "output_type": "stream",
     "text": [
      "(b'The Beehive', b'Honeycomb3000', b'pwr', 1000, b'Operational', b'SeveralBees', 20001031, 2000, 20101031, 20131031, 0, 0, 20121031, 20701031, 90.)\n"
     ]
    }
   ],
   "source": [
    "## attempt at creating input file\n",
    "import numpy as np\n",
    "\n",
    "reactor_array = np.genfromtxt(filename,\n",
    "                                  skip_header=1,\n",
    "                                  delimiter=',',\n",
    "                                  dtype=('S128', 'S128',\n",
    "                                         'S128', 'int',\n",
    "                                         'S128', 'S128', 'int',\n",
    "                                         'int', 'int',\n",
    "                                         'int', 'int',\n",
    "                                         'int', 'int',\n",
    "                                         'int', 'float'),\n",
    "                                  names=('country', 'reactor_name',\n",
    "                                         'type', 'net_elec_capacity',\n",
    "                                         'status', 'operator', 'const_date',\n",
    "                                         'cons_year', 'first_crit',\n",
    "                                         'entry_time', 'lifetime',\n",
    "                                         'first_grid', 'commercial',\n",
    "                                         'shutdown_date', 'ucf'))\n",
    "print(reactor_array)"
   ]
  },
  {
   "cell_type": "markdown",
   "metadata": {},
   "source": [
    "Everything below this is not currently being used - don't run those cells"
   ]
  },
  {
   "cell_type": "code",
   "execution_count": 42,
   "metadata": {},
   "outputs": [
    {
     "name": "stdout",
     "output_type": "stream",
     "text": [
      "The autoreload extension is already loaded. To reload it, use:\n",
      "  %reload_ext autoreload\n"
     ]
    }
   ],
   "source": [
    "%load_ext autoreload\n",
    "%autoreload 1"
   ]
  },
  {
   "cell_type": "code",
   "execution_count": 48,
   "metadata": {},
   "outputs": [
    {
     "ename": "TypeError",
     "evalue": "iteration over a 0-d array",
     "output_type": "error",
     "traceback": [
      "\u001b[0;31m---------------------------------------------------------------------------\u001b[0m",
      "\u001b[0;31mTypeError\u001b[0m                                 Traceback (most recent call last)",
      "\u001b[0;32m<ipython-input-48-1e9156551cc6>\u001b[0m in \u001b[0;36m<module>\u001b[0;34m()\u001b[0m\n\u001b[1;32m      5\u001b[0m \u001b[0mget_ipython\u001b[0m\u001b[0;34m(\u001b[0m\u001b[0;34m)\u001b[0m\u001b[0;34m.\u001b[0m\u001b[0mrun_line_magic\u001b[0m\u001b[0;34m(\u001b[0m\u001b[0;34m'aimport'\u001b[0m\u001b[0;34m,\u001b[0m \u001b[0;34m'write_input'\u001b[0m\u001b[0;34m)\u001b[0m\u001b[0;34m\u001b[0m\u001b[0m\n\u001b[1;32m      6\u001b[0m \u001b[0;34m\u001b[0m\u001b[0m\n\u001b[0;32m----> 7\u001b[0;31m \u001b[0mwrite_input\u001b[0m\u001b[0;34m.\u001b[0m\u001b[0mmain\u001b[0m\u001b[0;34m(\u001b[0m\u001b[0mfilename\u001b[0m\u001b[0;34m,\u001b[0m\u001b[0;36m20180101\u001b[0m\u001b[0;34m,\u001b[0m\u001b[0;34m'input_template.xml.in'\u001b[0m\u001b[0;34m,\u001b[0m\u001b[0;34m'output_file'\u001b[0m\u001b[0;34m,\u001b[0m\u001b[0mreprocessing\u001b[0m \u001b[0;34m=\u001b[0m \u001b[0;32mFalse\u001b[0m\u001b[0;34m)\u001b[0m\u001b[0;34m\u001b[0m\u001b[0m\n\u001b[0m",
      "\u001b[0;32m~/write_input.py\u001b[0m in \u001b[0;36mmain\u001b[0;34m(csv_file, init_date, duration, output_file, reprocessing)\u001b[0m\n\u001b[1;32m    485\u001b[0m     \u001b[0mregion_output_filename\u001b[0m \u001b[0;34m=\u001b[0m \u001b[0;34m'region_output.xml.in'\u001b[0m\u001b[0;34m\u001b[0m\u001b[0m\n\u001b[1;32m    486\u001b[0m     \u001b[0;31m# read csv and templates\u001b[0m\u001b[0;34m\u001b[0m\u001b[0;34m\u001b[0m\u001b[0m\n\u001b[0;32m--> 487\u001b[0;31m     \u001b[0mcsv_database\u001b[0m \u001b[0;34m=\u001b[0m \u001b[0mread_csv\u001b[0m\u001b[0;34m(\u001b[0m\u001b[0mcsv_file\u001b[0m\u001b[0;34m)\u001b[0m\u001b[0;34m\u001b[0m\u001b[0m\n\u001b[0m\u001b[1;32m    488\u001b[0m     \u001b[0;32mfor\u001b[0m \u001b[0mdata\u001b[0m \u001b[0;32min\u001b[0m \u001b[0mcsv_database\u001b[0m\u001b[0;34m:\u001b[0m\u001b[0;34m\u001b[0m\u001b[0m\n\u001b[1;32m    489\u001b[0m         \u001b[0mentry_time\u001b[0m \u001b[0;34m=\u001b[0m \u001b[0mget_entrytime\u001b[0m\u001b[0;34m(\u001b[0m\u001b[0minit_date\u001b[0m\u001b[0;34m,\u001b[0m \u001b[0mdata\u001b[0m\u001b[0;34m[\u001b[0m\u001b[0;34m'first_crit'\u001b[0m\u001b[0;34m]\u001b[0m\u001b[0;34m)\u001b[0m\u001b[0;34m\u001b[0m\u001b[0m\n",
      "\u001b[0;32m~/write_input.py\u001b[0m in \u001b[0;36mread_csv\u001b[0;34m(csv_file)\u001b[0m\n\u001b[1;32m     58\u001b[0m                                          \u001b[0;34m'first_grid'\u001b[0m\u001b[0;34m,\u001b[0m \u001b[0;34m'commercial'\u001b[0m\u001b[0;34m,\u001b[0m\u001b[0;34m\u001b[0m\u001b[0m\n\u001b[1;32m     59\u001b[0m                                          'shutdown_date', 'ucf'))\n\u001b[0;32m---> 60\u001b[0;31m     \u001b[0;32mreturn\u001b[0m \u001b[0mfilter_test_reactors\u001b[0m\u001b[0;34m(\u001b[0m\u001b[0mreactor_array\u001b[0m\u001b[0;34m)\u001b[0m\u001b[0;34m\u001b[0m\u001b[0m\n\u001b[0m\u001b[1;32m     61\u001b[0m \u001b[0;34m\u001b[0m\u001b[0m\n\u001b[1;32m     62\u001b[0m \u001b[0;34m\u001b[0m\u001b[0m\n",
      "\u001b[0;32m~/write_input.py\u001b[0m in \u001b[0;36mfilter_test_reactors\u001b[0;34m(reactor_array)\u001b[0m\n\u001b[1;32m     77\u001b[0m     \u001b[0mhitlist\u001b[0m \u001b[0;34m=\u001b[0m \u001b[0;34m[\u001b[0m\u001b[0;34m]\u001b[0m\u001b[0;34m\u001b[0m\u001b[0m\n\u001b[1;32m     78\u001b[0m     \u001b[0mcount\u001b[0m \u001b[0;34m=\u001b[0m \u001b[0;36m0\u001b[0m\u001b[0;34m\u001b[0m\u001b[0m\n\u001b[0;32m---> 79\u001b[0;31m     \u001b[0;32mfor\u001b[0m \u001b[0mdata\u001b[0m \u001b[0;32min\u001b[0m \u001b[0mreactor_array\u001b[0m\u001b[0;34m:\u001b[0m\u001b[0;34m\u001b[0m\u001b[0m\n\u001b[0m\u001b[1;32m     80\u001b[0m         \u001b[0;32mif\u001b[0m \u001b[0mdata\u001b[0m\u001b[0;34m[\u001b[0m\u001b[0;34m'net_elec_capacity'\u001b[0m\u001b[0;34m]\u001b[0m \u001b[0;34m<\u001b[0m \u001b[0;36m100\u001b[0m\u001b[0;34m:\u001b[0m\u001b[0;34m\u001b[0m\u001b[0m\n\u001b[1;32m     81\u001b[0m             \u001b[0mhitlist\u001b[0m\u001b[0;34m.\u001b[0m\u001b[0mappend\u001b[0m\u001b[0;34m(\u001b[0m\u001b[0mcount\u001b[0m\u001b[0;34m)\u001b[0m\u001b[0;34m\u001b[0m\u001b[0m\n",
      "\u001b[0;31mTypeError\u001b[0m: iteration over a 0-d array"
     ]
    }
   ],
   "source": [
    "#this is a test for trying to make the csv file into an input using write_input.py\n",
    "#we might need to make our own version that's simpler for the tutorial,\n",
    "#we'll have to ask\n",
    "\n",
    "%aimport write_input\n",
    "\n",
    "write_input.main(filename,20180101,480,'output_file',reprocessing = False)"
   ]
  }
 ],
 "metadata": {
  "kernelspec": {
   "display_name": "Python 3",
   "language": "python",
   "name": "python3"
  },
  "language_info": {
   "codemirror_mode": {
    "name": "ipython",
    "version": 3
   },
   "file_extension": ".py",
   "mimetype": "text/x-python",
   "name": "python",
   "nbconvert_exporter": "python",
   "pygments_lexer": "ipython3",
   "version": "3.6.5"
  }
 },
 "nbformat": 4,
 "nbformat_minor": 2
}
